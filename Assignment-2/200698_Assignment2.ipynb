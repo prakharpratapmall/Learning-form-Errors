{
 "cells": [
  {
   "cell_type": "code",
   "execution_count": 2,
   "metadata": {},
   "outputs": [],
   "source": [
    "# Import required libraries and set table view\n",
    "import numpy as np\n",
    "import pandas as pd\n",
    "import matplotlib.pyplot as plt\n",
    "pd.set_option(\"display.max_rows\",10)\n",
    "pd.set_option('display.max_columns', None)"
   ]
  },
  {
   "cell_type": "code",
   "execution_count": 3,
   "metadata": {},
   "outputs": [],
   "source": [
    "# Load the csv file through Pandas\n",
    "dataset = pd.read_csv(\"hotel_bookings.csv\")"
   ]
  },
  {
   "cell_type": "code",
   "execution_count": 4,
   "metadata": {},
   "outputs": [],
   "source": [
    "# Handle missing Values\n",
    "dataset.children.fillna(0.0,inplace=True)\n",
    "dataset.country.fillna(\"UNKNOWN\",inplace=True)\n",
    "dataset.agent.fillna(0.0,inplace=True)\n",
    "dataset.company.fillna(0.0,inplace=True)"
   ]
  },
  {
   "cell_type": "code",
   "execution_count": 5,
   "metadata": {},
   "outputs": [],
   "source": [
    "#Handling Categorical Data\n",
    "encodings = dataset.groupby('arrival_date_month')['adr'].mean().reset_index()\n",
    "data = dataset.merge(encodings, how='left', on='arrival_date_month', suffixes=(None,\"_y\"))\n",
    "data.drop('arrival_date_month', axis=1, inplace=True)\n",
    "data.rename(columns = {'adr_y':'arrival_date_month',}, inplace = True)\n",
    "\n",
    "encodings = data.groupby('country')['adr'].mean().reset_index()\n",
    "data = data.merge(encodings, how='left', on='country',suffixes=(None,\"_y\"))\n",
    "data.drop('country', axis=1, inplace=True)\n",
    "data.rename(columns = {'adr_y':'country',}, inplace = True)\n",
    "\n",
    "encodings = data.groupby('meal')['adr'].mean().reset_index()\n",
    "data = data.merge(encodings, how='left', on='meal',suffixes=(None,\"_y\"))\n",
    "data.drop('meal', axis=1, inplace=True)\n",
    "data.rename(columns = {'adr_y':'meal',}, inplace = True)\n",
    "\n",
    "encodings = data.groupby('market_segment')['adr'].mean().reset_index()\n",
    "data = data.merge(encodings, how='left', on='market_segment',suffixes=(None,\"_y\"))\n",
    "data.drop('market_segment', axis=1, inplace=True)\n",
    "data.rename(columns = {'adr_y':'market_segment',}, inplace = True)\n",
    "\n",
    "encodings = data.groupby('distribution_channel')['adr'].mean().reset_index()\n",
    "data = data.merge(encodings, how='left', on='distribution_channel',suffixes=(None,\"_y\"))\n",
    "data.drop('distribution_channel', axis=1, inplace=True)\n",
    "data.rename(columns = {'adr_y':'distribution_channel',}, inplace = True)\n",
    "\n",
    "encodings = data.groupby('reserved_room_type')['adr'].mean().reset_index()\n",
    "data = data.merge(encodings, how='left', on='reserved_room_type',suffixes=(None,\"_y\"))\n",
    "data.drop('reserved_room_type', axis=1, inplace=True)\n",
    "data.rename(columns = {'adr_y':'reserved_room_type',}, inplace = True)\n",
    "\n",
    "encodings = data.groupby('assigned_room_type')['adr'].mean().reset_index()\n",
    "data = data.merge(encodings, how='left', on='assigned_room_type',suffixes=(None,\"_y\"))\n",
    "data.drop('assigned_room_type', axis=1, inplace=True)\n",
    "data.rename(columns = {'adr_y':'assigned_room_type',}, inplace = True)\n",
    "\n",
    "encodings = data.groupby('deposit_type')['adr'].mean().reset_index()\n",
    "data = data.merge(encodings, how='left', on='deposit_type',suffixes=(None,\"_y\"))\n",
    "data.drop('deposit_type', axis=1, inplace=True)\n",
    "data.rename(columns = {'adr_y':'deposit_type',}, inplace = True)\n",
    "\n",
    "encodings = data.groupby('customer_type')['adr'].mean().reset_index()\n",
    "data = data.merge(encodings, how='left', on='customer_type',suffixes=(None,\"_y\"))\n",
    "data.drop('customer_type', axis=1, inplace=True)\n",
    "data.rename(columns = {'adr_y':'customer_type',}, inplace = True)\n",
    "\n",
    "encodings = data.groupby('reservation_status')['adr'].mean().reset_index()\n",
    "data = data.merge(encodings, how='left', on='reservation_status',suffixes=(None,\"_y\"))\n",
    "data.drop('reservation_status', axis=1, inplace=True)\n",
    "data.rename(columns = {'adr_y':'reservation_status',}, inplace = True)\n",
    "\n",
    "encodings = data.groupby('hotel')['adr'].mean().reset_index()\n",
    "data = data.merge(encodings, how='left', on='hotel',suffixes=(None,\"_y\"))\n",
    "data.drop('hotel', axis=1, inplace=True)\n",
    "data.rename(columns = {'adr_y':'hotel',}, inplace = True)\n",
    "\n",
    "#Reservation date is dropped since month, year and day columns are already present\n",
    "data.drop('reservation_status_date', axis=1, inplace=True)"
   ]
  },
  {
   "cell_type": "code",
   "execution_count": 6,
   "metadata": {},
   "outputs": [],
   "source": [
    "# Separating taget value and features\n",
    "X = data\n",
    "y=X.pop('adr')"
   ]
  },
  {
   "cell_type": "code",
   "execution_count": 7,
   "metadata": {},
   "outputs": [],
   "source": [
    "#Splitting the data in 20-80 ratio\n",
    "from sklearn.model_selection import train_test_split\n",
    "X_train, X_test, y_train, y_test = train_test_split(X, y, test_size=0.2, random_state=1234)"
   ]
  },
  {
   "cell_type": "code",
   "execution_count": 8,
   "metadata": {},
   "outputs": [
    {
     "name": "stdout",
     "output_type": "stream",
     "text": [
      "1.0\n",
      "0.5810599665012997\n"
     ]
    }
   ],
   "source": [
    "#Training the dataset and applying different Regression models\n",
    "from sklearn.linear_model import LinearRegression\n",
    "from sklearn.metrics import r2_score\n",
    "reg = LinearRegression().fit(X_train, y_train)\n",
    "y_pred = reg.predict(X_test)\n",
    "print(r2_score(y_test,y_pred))"
   ]
  },
  {
   "cell_type": "code",
   "execution_count": 9,
   "metadata": {},
   "outputs": [
    {
     "name": "stdout",
     "output_type": "stream",
     "text": [
      "1.0\n",
      "0.9080296986198892\n"
     ]
    }
   ],
   "source": [
    "from sklearn.ensemble import RandomForestRegressor\n",
    "reg = RandomForestRegressor().fit(X_train, y_train)\n",
    "y_pred = reg.predict(X_test)\n",
    "print(r2_score(y_test,y_pred))"
   ]
  },
  {
   "cell_type": "code",
   "execution_count": 29,
   "metadata": {},
   "outputs": [
    {
     "name": "stdout",
     "output_type": "stream",
     "text": [
      "1.0\n",
      "0.5787788359665902\n"
     ]
    }
   ],
   "source": [
    "from sklearn.linear_model import SGDRegressor\n",
    "from sklearn.pipeline import make_pipeline\n",
    "from sklearn.preprocessing import StandardScaler\n",
    "reg =make_pipeline(StandardScaler(),SGDRegressor(max_iter=1000, tol=1e-4)).fit(X_train, y_train)\n",
    "y_pred = reg.predict(X_test)\n",
    "print(r2_score(y_test,y_pred))"
   ]
  },
  {
   "cell_type": "code",
   "execution_count": 39,
   "metadata": {},
   "outputs": [
    {
     "name": "stdout",
     "output_type": "stream",
     "text": [
      "-0.01567109267618738\n"
     ]
    }
   ],
   "source": [
    "from sklearn.linear_model import RANSACRegressor\n",
    "reg = RANSACRegressor().fit(X_train,y_train)\n",
    "y_pred = reg.predict(X_test)\n",
    "print(r2_score(y_test,y_pred))"
   ]
  },
  {
   "cell_type": "code",
   "execution_count": 42,
   "metadata": {},
   "outputs": [
    {
     "name": "stdout",
     "output_type": "stream",
     "text": [
      "0.5568199392094542\n"
     ]
    }
   ],
   "source": [
    "from sklearn.linear_model import TweedieRegressor\n",
    "reg = TweedieRegressor(power=1, alpha=0.5, link='log',max_iter=10000).fit(X_train,y_train)\n",
    "y_pred = reg.predict(X_test)\n",
    "print(r2_score(y_test,y_pred))"
   ]
  }
 ],
 "metadata": {
  "kernelspec": {
   "display_name": "Python 3.9.13 64-bit (windows store)",
   "language": "python",
   "name": "python3"
  },
  "language_info": {
   "codemirror_mode": {
    "name": "ipython",
    "version": 3
   },
   "file_extension": ".py",
   "mimetype": "text/x-python",
   "name": "python",
   "nbconvert_exporter": "python",
   "pygments_lexer": "ipython3",
   "version": "3.9.13"
  },
  "orig_nbformat": 4,
  "vscode": {
   "interpreter": {
    "hash": "c0f7ff968abd5cdc646c3b0d79d8d9fba0fbc1faf12e0395fe0c5d95a57fad77"
   }
  }
 },
 "nbformat": 4,
 "nbformat_minor": 2
}
